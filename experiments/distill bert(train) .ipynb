{
  "nbformat": 4,
  "nbformat_minor": 0,
  "metadata": {
    "colab": {
      "provenance": [],
      "gpuType": "T4",
      "authorship_tag": "ABX9TyM4UC4N9jzJlK5eruw6nUe8",
      "include_colab_link": true
    },
    "kernelspec": {
      "name": "python3",
      "display_name": "Python 3"
    },
    "language_info": {
      "name": "python"
    },
    "accelerator": "GPU",
    "widgets": {
      "application/vnd.jupyter.widget-state+json": {
        "547d10091cf7469eaed6dcb258905da7": {
          "model_module": "@jupyter-widgets/controls",
          "model_name": "HBoxModel",
          "model_module_version": "1.5.0",
          "state": {
            "_dom_classes": [],
            "_model_module": "@jupyter-widgets/controls",
            "_model_module_version": "1.5.0",
            "_model_name": "HBoxModel",
            "_view_count": null,
            "_view_module": "@jupyter-widgets/controls",
            "_view_module_version": "1.5.0",
            "_view_name": "HBoxView",
            "box_style": "",
            "children": [
              "IPY_MODEL_53cd3e309209476d8b183c0c38d4aead",
              "IPY_MODEL_e80a813b28b04a98ae954ddfcb8a97c5",
              "IPY_MODEL_3d2d6a43408e45e99a23d71b1fad8c36"
            ],
            "layout": "IPY_MODEL_20f51815b5fb47f6bef485d47998e815"
          }
        },
        "53cd3e309209476d8b183c0c38d4aead": {
          "model_module": "@jupyter-widgets/controls",
          "model_name": "HTMLModel",
          "model_module_version": "1.5.0",
          "state": {
            "_dom_classes": [],
            "_model_module": "@jupyter-widgets/controls",
            "_model_module_version": "1.5.0",
            "_model_name": "HTMLModel",
            "_view_count": null,
            "_view_module": "@jupyter-widgets/controls",
            "_view_module_version": "1.5.0",
            "_view_name": "HTMLView",
            "description": "",
            "description_tooltip": null,
            "layout": "IPY_MODEL_307b146a231e4296b8d662fb2e634d71",
            "placeholder": "​",
            "style": "IPY_MODEL_3c77dcbfe6084604946aa2c66ec96fc2",
            "value": "model.safetensors: 100%"
          }
        },
        "e80a813b28b04a98ae954ddfcb8a97c5": {
          "model_module": "@jupyter-widgets/controls",
          "model_name": "FloatProgressModel",
          "model_module_version": "1.5.0",
          "state": {
            "_dom_classes": [],
            "_model_module": "@jupyter-widgets/controls",
            "_model_module_version": "1.5.0",
            "_model_name": "FloatProgressModel",
            "_view_count": null,
            "_view_module": "@jupyter-widgets/controls",
            "_view_module_version": "1.5.0",
            "_view_name": "ProgressView",
            "bar_style": "success",
            "description": "",
            "description_tooltip": null,
            "layout": "IPY_MODEL_d684a80182c0481fa3e65047c7f2c231",
            "max": 267954768,
            "min": 0,
            "orientation": "horizontal",
            "style": "IPY_MODEL_75ecef64bfdc4405a0f623fd05db9dbd",
            "value": 267954768
          }
        },
        "3d2d6a43408e45e99a23d71b1fad8c36": {
          "model_module": "@jupyter-widgets/controls",
          "model_name": "HTMLModel",
          "model_module_version": "1.5.0",
          "state": {
            "_dom_classes": [],
            "_model_module": "@jupyter-widgets/controls",
            "_model_module_version": "1.5.0",
            "_model_name": "HTMLModel",
            "_view_count": null,
            "_view_module": "@jupyter-widgets/controls",
            "_view_module_version": "1.5.0",
            "_view_name": "HTMLView",
            "description": "",
            "description_tooltip": null,
            "layout": "IPY_MODEL_f57676e785b540268d3667c2f106e0e7",
            "placeholder": "​",
            "style": "IPY_MODEL_541ce75b65d74f809428f14b6889c1ab",
            "value": " 268M/268M [00:03&lt;00:00, 109MB/s]"
          }
        },
        "20f51815b5fb47f6bef485d47998e815": {
          "model_module": "@jupyter-widgets/base",
          "model_name": "LayoutModel",
          "model_module_version": "1.2.0",
          "state": {
            "_model_module": "@jupyter-widgets/base",
            "_model_module_version": "1.2.0",
            "_model_name": "LayoutModel",
            "_view_count": null,
            "_view_module": "@jupyter-widgets/base",
            "_view_module_version": "1.2.0",
            "_view_name": "LayoutView",
            "align_content": null,
            "align_items": null,
            "align_self": null,
            "border": null,
            "bottom": null,
            "display": null,
            "flex": null,
            "flex_flow": null,
            "grid_area": null,
            "grid_auto_columns": null,
            "grid_auto_flow": null,
            "grid_auto_rows": null,
            "grid_column": null,
            "grid_gap": null,
            "grid_row": null,
            "grid_template_areas": null,
            "grid_template_columns": null,
            "grid_template_rows": null,
            "height": null,
            "justify_content": null,
            "justify_items": null,
            "left": null,
            "margin": null,
            "max_height": null,
            "max_width": null,
            "min_height": null,
            "min_width": null,
            "object_fit": null,
            "object_position": null,
            "order": null,
            "overflow": null,
            "overflow_x": null,
            "overflow_y": null,
            "padding": null,
            "right": null,
            "top": null,
            "visibility": null,
            "width": null
          }
        },
        "307b146a231e4296b8d662fb2e634d71": {
          "model_module": "@jupyter-widgets/base",
          "model_name": "LayoutModel",
          "model_module_version": "1.2.0",
          "state": {
            "_model_module": "@jupyter-widgets/base",
            "_model_module_version": "1.2.0",
            "_model_name": "LayoutModel",
            "_view_count": null,
            "_view_module": "@jupyter-widgets/base",
            "_view_module_version": "1.2.0",
            "_view_name": "LayoutView",
            "align_content": null,
            "align_items": null,
            "align_self": null,
            "border": null,
            "bottom": null,
            "display": null,
            "flex": null,
            "flex_flow": null,
            "grid_area": null,
            "grid_auto_columns": null,
            "grid_auto_flow": null,
            "grid_auto_rows": null,
            "grid_column": null,
            "grid_gap": null,
            "grid_row": null,
            "grid_template_areas": null,
            "grid_template_columns": null,
            "grid_template_rows": null,
            "height": null,
            "justify_content": null,
            "justify_items": null,
            "left": null,
            "margin": null,
            "max_height": null,
            "max_width": null,
            "min_height": null,
            "min_width": null,
            "object_fit": null,
            "object_position": null,
            "order": null,
            "overflow": null,
            "overflow_x": null,
            "overflow_y": null,
            "padding": null,
            "right": null,
            "top": null,
            "visibility": null,
            "width": null
          }
        },
        "3c77dcbfe6084604946aa2c66ec96fc2": {
          "model_module": "@jupyter-widgets/controls",
          "model_name": "DescriptionStyleModel",
          "model_module_version": "1.5.0",
          "state": {
            "_model_module": "@jupyter-widgets/controls",
            "_model_module_version": "1.5.0",
            "_model_name": "DescriptionStyleModel",
            "_view_count": null,
            "_view_module": "@jupyter-widgets/base",
            "_view_module_version": "1.2.0",
            "_view_name": "StyleView",
            "description_width": ""
          }
        },
        "d684a80182c0481fa3e65047c7f2c231": {
          "model_module": "@jupyter-widgets/base",
          "model_name": "LayoutModel",
          "model_module_version": "1.2.0",
          "state": {
            "_model_module": "@jupyter-widgets/base",
            "_model_module_version": "1.2.0",
            "_model_name": "LayoutModel",
            "_view_count": null,
            "_view_module": "@jupyter-widgets/base",
            "_view_module_version": "1.2.0",
            "_view_name": "LayoutView",
            "align_content": null,
            "align_items": null,
            "align_self": null,
            "border": null,
            "bottom": null,
            "display": null,
            "flex": null,
            "flex_flow": null,
            "grid_area": null,
            "grid_auto_columns": null,
            "grid_auto_flow": null,
            "grid_auto_rows": null,
            "grid_column": null,
            "grid_gap": null,
            "grid_row": null,
            "grid_template_areas": null,
            "grid_template_columns": null,
            "grid_template_rows": null,
            "height": null,
            "justify_content": null,
            "justify_items": null,
            "left": null,
            "margin": null,
            "max_height": null,
            "max_width": null,
            "min_height": null,
            "min_width": null,
            "object_fit": null,
            "object_position": null,
            "order": null,
            "overflow": null,
            "overflow_x": null,
            "overflow_y": null,
            "padding": null,
            "right": null,
            "top": null,
            "visibility": null,
            "width": null
          }
        },
        "75ecef64bfdc4405a0f623fd05db9dbd": {
          "model_module": "@jupyter-widgets/controls",
          "model_name": "ProgressStyleModel",
          "model_module_version": "1.5.0",
          "state": {
            "_model_module": "@jupyter-widgets/controls",
            "_model_module_version": "1.5.0",
            "_model_name": "ProgressStyleModel",
            "_view_count": null,
            "_view_module": "@jupyter-widgets/base",
            "_view_module_version": "1.2.0",
            "_view_name": "StyleView",
            "bar_color": null,
            "description_width": ""
          }
        },
        "f57676e785b540268d3667c2f106e0e7": {
          "model_module": "@jupyter-widgets/base",
          "model_name": "LayoutModel",
          "model_module_version": "1.2.0",
          "state": {
            "_model_module": "@jupyter-widgets/base",
            "_model_module_version": "1.2.0",
            "_model_name": "LayoutModel",
            "_view_count": null,
            "_view_module": "@jupyter-widgets/base",
            "_view_module_version": "1.2.0",
            "_view_name": "LayoutView",
            "align_content": null,
            "align_items": null,
            "align_self": null,
            "border": null,
            "bottom": null,
            "display": null,
            "flex": null,
            "flex_flow": null,
            "grid_area": null,
            "grid_auto_columns": null,
            "grid_auto_flow": null,
            "grid_auto_rows": null,
            "grid_column": null,
            "grid_gap": null,
            "grid_row": null,
            "grid_template_areas": null,
            "grid_template_columns": null,
            "grid_template_rows": null,
            "height": null,
            "justify_content": null,
            "justify_items": null,
            "left": null,
            "margin": null,
            "max_height": null,
            "max_width": null,
            "min_height": null,
            "min_width": null,
            "object_fit": null,
            "object_position": null,
            "order": null,
            "overflow": null,
            "overflow_x": null,
            "overflow_y": null,
            "padding": null,
            "right": null,
            "top": null,
            "visibility": null,
            "width": null
          }
        },
        "541ce75b65d74f809428f14b6889c1ab": {
          "model_module": "@jupyter-widgets/controls",
          "model_name": "DescriptionStyleModel",
          "model_module_version": "1.5.0",
          "state": {
            "_model_module": "@jupyter-widgets/controls",
            "_model_module_version": "1.5.0",
            "_model_name": "DescriptionStyleModel",
            "_view_count": null,
            "_view_module": "@jupyter-widgets/base",
            "_view_module_version": "1.2.0",
            "_view_name": "StyleView",
            "description_width": ""
          }
        }
      }
    }
  },
  "cells": [
    {
      "cell_type": "markdown",
      "metadata": {
        "id": "view-in-github",
        "colab_type": "text"
      },
      "source": [
        "<a href=\"https://colab.research.google.com/github/harshithamadarapu/Team16_Hinglish-Auto-suggestions/blob/main/training%20using%20distill%20bert.ipynb\" target=\"_parent\"><img src=\"https://colab.research.google.com/assets/colab-badge.svg\" alt=\"Open In Colab\"/></a>"
      ]
    },
    {
      "cell_type": "code",
      "source": [
        "import pandas as pd\n",
        "import numpy as np\n",
        "\n",
        "# Load word embeddings\n",
        "word_embeddings_path = '/content/vectors.csv'\n",
        "word_embeddings_df = pd.read_csv(word_embeddings_path)\n",
        "\n",
        "# Create a dictionary mapping words to their embeddings\n",
        "word_to_embedding = {row['word']: row[1:].values.astype(np.float32) for _, row in word_embeddings_df.iterrows()}\n",
        "print(\"Loaded word embeddings for\", len(word_to_embedding), \"words.\")\n"
      ],
      "metadata": {
        "colab": {
          "base_uri": "https://localhost:8080/"
        },
        "id": "Rws7TxS-RXTA",
        "outputId": "83590db5-1906-4bd4-aee2-9bfb0458c0f3"
      },
      "execution_count": null,
      "outputs": [
        {
          "output_type": "stream",
          "name": "stdout",
          "text": [
            "Loaded word embeddings for 31887 words.\n"
          ]
        }
      ]
    },
    {
      "cell_type": "code",
      "source": [
        "# Load training and validation datasets\n",
        "train_data_path = '/content/train_data.csv'\n",
        "val_data_path = '/content/val_data.csv'\n",
        "\n",
        "train_df = pd.read_csv(train_data_path)\n",
        "val_df = pd.read_csv(val_data_path)\n",
        "\n",
        "# Display first few rows of the train and validation datasets\n",
        "print(\"Training Data:\")\n",
        "print(train_df.head())\n",
        "print(\"Validation Data:\")\n",
        "print(val_df.head())\n"
      ],
      "metadata": {
        "colab": {
          "base_uri": "https://localhost:8080/"
        },
        "id": "AH0dtt84RbLd",
        "outputId": "713ba1ac-697b-4a5d-c141-aaafc2021686"
      },
      "execution_count": null,
      "outputs": [
        {
          "output_type": "stream",
          "name": "stdout",
          "text": [
            "Training Data:\n",
            "                                             phrases\n",
            "0                 morning alarm daily ko repeat kare\n",
            "1  Muje the Charger ' s game me 8 pm tak pohochne...\n",
            "2        Lakewood , Ohio ka weekly weather kya hai ?\n",
            "3            mujhe temperature badhne par alert karo\n",
            "4             Aaj raat Miami me karne ke liye cheeze\n",
            "Validation Data:\n",
            "                                             phrases\n",
            "0  kya S Ã£ o Paulo Avenue se Beyonce show me jan...\n",
            "1             kya lightning aane ka koi chance hai ?\n",
            "2  Mike ko message kare ki mai kal 5 am ko meetin...\n",
            "3  true story ,  teachers staff room main bina te...\n",
            "4                     1 am ke liye alarm create kare\n"
          ]
        }
      ]
    },
    {
      "cell_type": "code",
      "source": [
        "import re\n",
        "\n",
        "# Basic cleaning function\n",
        "def clean_text(text):\n",
        "    # Convert to lowercase (if using uncased model)\n",
        "    text = text.lower()\n",
        "\n",
        "    # Remove non-alphabetic characters (except for spaces)\n",
        "    text = re.sub(r'[^a-zA-Z\\s]', '', text)  # Keep only alphabetic characters and spaces\n",
        "\n",
        "    # Remove alphanumeric words (words that contain both letters and numbers)\n",
        "    text = re.sub(r'\\b\\w*\\d\\w*\\b', '', text)  # Remove words that contain numbers\n",
        "\n",
        "    # Remove extra spaces\n",
        "    text = re.sub(r'\\s+', ' ', text).strip()\n",
        "\n",
        "    return text\n",
        "\n",
        "# Apply cleaning function to train and validation data and update the \"phrases\" column\n",
        "train_df['phrases'] = train_df['phrases'].apply(clean_text)\n",
        "val_df['phrases'] = val_df['phrases'].apply(clean_text)\n",
        "\n",
        "# Verify the changes\n",
        "print(train_df['phrases'].head())\n",
        "print(val_df['phrases'].head())\n"
      ],
      "metadata": {
        "colab": {
          "base_uri": "https://localhost:8080/"
        },
        "id": "ShRbn4S6SW1m",
        "outputId": "2d988601-c4d7-46ba-bf22-77d593f671ae"
      },
      "execution_count": null,
      "outputs": [
        {
          "output_type": "stream",
          "name": "stdout",
          "text": [
            "0                   morning alarm daily ko repeat kare\n",
            "1    muje the charger s game me pm tak pohochne ke ...\n",
            "2              lakewood ohio ka weekly weather kya hai\n",
            "3              mujhe temperature badhne par alert karo\n",
            "4               aaj raat miami me karne ke liye cheeze\n",
            "Name: phrases, dtype: object\n",
            "0    kya s o paulo avenue se beyonce show me jane k...\n",
            "1                 kya lightning aane ka koi chance hai\n",
            "2    mike ko message kare ki mai kal am ko meeting ...\n",
            "3    true story teachers staff room main bina teach...\n",
            "4                         am ke liye alarm create kare\n",
            "Name: phrases, dtype: object\n"
          ]
        }
      ]
    },
    {
      "cell_type": "code",
      "source": [
        "from transformers import DistilBertTokenizer\n",
        "\n",
        "# Load the tokenizer\n",
        "tokenizer = DistilBertTokenizer.from_pretrained('distilbert-base-uncased')\n",
        "\n",
        "# Tokenizing function\n",
        "def tokenize_data(dataframe):\n",
        "    return tokenizer(\n",
        "        dataframe['phrases'].tolist(),\n",
        "        padding=True,\n",
        "        truncation=True,\n",
        "        max_length=128,  # You can adjust max length based on your data\n",
        "        return_tensors='pt'\n",
        "    )\n",
        "\n",
        "# Apply tokenization\n",
        "train_tokens = tokenize_data(train_df)\n",
        "val_tokens = tokenize_data(val_df)\n"
      ],
      "metadata": {
        "id": "g3zV6veBRhGJ"
      },
      "execution_count": null,
      "outputs": []
    },
    {
      "cell_type": "code",
      "source": [
        "from torch.utils.data import Dataset\n",
        "\n",
        "class HinglishDataset(Dataset):\n",
        "    def __init__(self, tokenized_data):\n",
        "        self.input_ids = tokenized_data['input_ids']\n",
        "        self.attention_mask = tokenized_data['attention_mask']\n",
        "        self.labels = tokenized_data['input_ids']  # For MLM task, labels are same as inputs\n",
        "\n",
        "    def __len__(self):\n",
        "        return len(self.input_ids)\n",
        "\n",
        "    def __getitem__(self, idx):\n",
        "        return {\n",
        "            'input_ids': self.input_ids[idx],\n",
        "            'attention_mask': self.attention_mask[idx],\n",
        "            'labels': self.labels[idx]\n",
        "        }\n",
        "\n",
        "# Create datasets for training and validation\n",
        "train_dataset = HinglishDataset(train_tokens)\n",
        "val_dataset = HinglishDataset(val_tokens)\n"
      ],
      "metadata": {
        "id": "GX0CwsA_SzL7"
      },
      "execution_count": null,
      "outputs": []
    },
    {
      "cell_type": "code",
      "source": [
        "from transformers import DistilBertForMaskedLM, TrainingArguments, Trainer\n",
        "\n",
        "# Load DistilBERT model for masked language modeling\n",
        "model = DistilBertForMaskedLM.from_pretrained('distilbert-base-uncased')\n",
        "\n",
        "# Define training arguments\n",
        "training_args = TrainingArguments(\n",
        "    output_dir='./results',              # Output directory\n",
        "    evaluation_strategy=\"epoch\",         # Evaluation strategy\n",
        "    learning_rate=2e-5,                  # Learning rate\n",
        "    per_device_train_batch_size=8,       # Batch size for training\n",
        "    per_device_eval_batch_size=8,        # Batch size for evaluation\n",
        "    num_train_epochs=3,                  # Number of training epochs\n",
        "    weight_decay=0.01,                   # Weight decay\n",
        "    logging_dir='./logs',                # Logging directory\n",
        "    fp16=True,                           # Mixed precision for faster training\n",
        ")\n",
        "\n",
        "# Initialize the Trainer\n",
        "trainer = Trainer(\n",
        "    model=model,                         # The model to be trained\n",
        "    args=training_args,                  # Training arguments\n",
        "    train_dataset=train_dataset,         # Training dataset\n",
        "    eval_dataset=val_dataset             # Validation dataset\n",
        ")\n"
      ],
      "metadata": {
        "colab": {
          "base_uri": "https://localhost:8080/",
          "height": 142,
          "referenced_widgets": [
            "547d10091cf7469eaed6dcb258905da7",
            "53cd3e309209476d8b183c0c38d4aead",
            "e80a813b28b04a98ae954ddfcb8a97c5",
            "3d2d6a43408e45e99a23d71b1fad8c36",
            "20f51815b5fb47f6bef485d47998e815",
            "307b146a231e4296b8d662fb2e634d71",
            "3c77dcbfe6084604946aa2c66ec96fc2",
            "d684a80182c0481fa3e65047c7f2c231",
            "75ecef64bfdc4405a0f623fd05db9dbd",
            "f57676e785b540268d3667c2f106e0e7",
            "541ce75b65d74f809428f14b6889c1ab"
          ]
        },
        "id": "WApNSPuaS2E3",
        "outputId": "b5c2b7e1-1459-40b8-bf41-6db354155bfc"
      },
      "execution_count": null,
      "outputs": [
        {
          "output_type": "display_data",
          "data": {
            "text/plain": [
              "model.safetensors:   0%|          | 0.00/268M [00:00<?, ?B/s]"
            ],
            "application/vnd.jupyter.widget-view+json": {
              "version_major": 2,
              "version_minor": 0,
              "model_id": "547d10091cf7469eaed6dcb258905da7"
            }
          },
          "metadata": {}
        },
        {
          "output_type": "stream",
          "name": "stderr",
          "text": [
            "/usr/local/lib/python3.10/dist-packages/transformers/training_args.py:1525: FutureWarning: `evaluation_strategy` is deprecated and will be removed in version 4.46 of 🤗 Transformers. Use `eval_strategy` instead\n",
            "  warnings.warn(\n",
            "/usr/local/lib/python3.10/dist-packages/accelerate/accelerator.py:494: FutureWarning: `torch.cuda.amp.GradScaler(args...)` is deprecated. Please use `torch.amp.GradScaler('cuda', args...)` instead.\n",
            "  self.scaler = torch.cuda.amp.GradScaler(**kwargs)\n"
          ]
        }
      ]
    },
    {
      "cell_type": "code",
      "source": [
        "# Start the training\n",
        "trainer.train()"
      ],
      "metadata": {
        "colab": {
          "base_uri": "https://localhost:8080/",
          "height": 476
        },
        "id": "kJqimGf_S6yq",
        "outputId": "a575aaf9-32a1-48cb-fa34-85f64bf66ed7"
      },
      "execution_count": null,
      "outputs": [
        {
          "output_type": "stream",
          "name": "stderr",
          "text": [
            "\u001b[34m\u001b[1mwandb\u001b[0m: \u001b[33mWARNING\u001b[0m The `run_name` is currently set to the same value as `TrainingArguments.output_dir`. If this was not intended, please specify a different run name by setting the `TrainingArguments.run_name` parameter.\n",
            "\u001b[34m\u001b[1mwandb\u001b[0m: Using wandb-core as the SDK backend. Please refer to https://wandb.me/wandb-core for more information.\n"
          ]
        },
        {
          "output_type": "display_data",
          "data": {
            "text/plain": [
              "<IPython.core.display.Javascript object>"
            ],
            "application/javascript": [
              "\n",
              "        window._wandbApiKey = new Promise((resolve, reject) => {\n",
              "            function loadScript(url) {\n",
              "            return new Promise(function(resolve, reject) {\n",
              "                let newScript = document.createElement(\"script\");\n",
              "                newScript.onerror = reject;\n",
              "                newScript.onload = resolve;\n",
              "                document.body.appendChild(newScript);\n",
              "                newScript.src = url;\n",
              "            });\n",
              "            }\n",
              "            loadScript(\"https://cdn.jsdelivr.net/npm/postmate/build/postmate.min.js\").then(() => {\n",
              "            const iframe = document.createElement('iframe')\n",
              "            iframe.style.cssText = \"width:0;height:0;border:none\"\n",
              "            document.body.appendChild(iframe)\n",
              "            const handshake = new Postmate({\n",
              "                container: iframe,\n",
              "                url: 'https://wandb.ai/authorize'\n",
              "            });\n",
              "            const timeout = setTimeout(() => reject(\"Couldn't auto authenticate\"), 5000)\n",
              "            handshake.then(function(child) {\n",
              "                child.on('authorize', data => {\n",
              "                    clearTimeout(timeout)\n",
              "                    resolve(data)\n",
              "                });\n",
              "            });\n",
              "            })\n",
              "        });\n",
              "    "
            ]
          },
          "metadata": {}
        },
        {
          "output_type": "stream",
          "name": "stderr",
          "text": [
            "\u001b[34m\u001b[1mwandb\u001b[0m: Logging into wandb.ai. (Learn how to deploy a W&B server locally: https://wandb.me/wandb-server)\n",
            "\u001b[34m\u001b[1mwandb\u001b[0m: You can find your API key in your browser here: https://wandb.ai/authorize\n",
            "wandb: Paste an API key from your profile and hit enter, or press ctrl+c to quit:"
          ]
        },
        {
          "name": "stdout",
          "output_type": "stream",
          "text": [
            " ··········\n"
          ]
        },
        {
          "output_type": "stream",
          "name": "stderr",
          "text": [
            "\u001b[34m\u001b[1mwandb\u001b[0m: Appending key for api.wandb.ai to your netrc file: /root/.netrc\n"
          ]
        },
        {
          "output_type": "display_data",
          "data": {
            "text/plain": [
              "<IPython.core.display.HTML object>"
            ],
            "text/html": [
              "Tracking run with wandb version 0.18.5"
            ]
          },
          "metadata": {}
        },
        {
          "output_type": "display_data",
          "data": {
            "text/plain": [
              "<IPython.core.display.HTML object>"
            ],
            "text/html": [
              "Run data is saved locally in <code>/content/wandb/run-20241112_121604-aut2euo0</code>"
            ]
          },
          "metadata": {}
        },
        {
          "output_type": "display_data",
          "data": {
            "text/plain": [
              "<IPython.core.display.HTML object>"
            ],
            "text/html": [
              "Syncing run <strong><a href='https://wandb.ai/bhuvanavijaya353-mahindra-university/huggingface/runs/aut2euo0' target=\"_blank\">./results</a></strong> to <a href='https://wandb.ai/bhuvanavijaya353-mahindra-university/huggingface' target=\"_blank\">Weights & Biases</a> (<a href='https://wandb.me/run' target=\"_blank\">docs</a>)<br/>"
            ]
          },
          "metadata": {}
        },
        {
          "output_type": "display_data",
          "data": {
            "text/plain": [
              "<IPython.core.display.HTML object>"
            ],
            "text/html": [
              " View project at <a href='https://wandb.ai/bhuvanavijaya353-mahindra-university/huggingface' target=\"_blank\">https://wandb.ai/bhuvanavijaya353-mahindra-university/huggingface</a>"
            ]
          },
          "metadata": {}
        },
        {
          "output_type": "display_data",
          "data": {
            "text/plain": [
              "<IPython.core.display.HTML object>"
            ],
            "text/html": [
              " View run at <a href='https://wandb.ai/bhuvanavijaya353-mahindra-university/huggingface/runs/aut2euo0' target=\"_blank\">https://wandb.ai/bhuvanavijaya353-mahindra-university/huggingface/runs/aut2euo0</a>"
            ]
          },
          "metadata": {}
        },
        {
          "output_type": "display_data",
          "data": {
            "text/plain": [
              "<IPython.core.display.HTML object>"
            ],
            "text/html": [
              "\n",
              "    <div>\n",
              "      \n",
              "      <progress value='46089' max='46089' style='width:300px; height:20px; vertical-align: middle;'></progress>\n",
              "      [46089/46089 1:14:27, Epoch 3/3]\n",
              "    </div>\n",
              "    <table border=\"1\" class=\"dataframe\">\n",
              "  <thead>\n",
              " <tr style=\"text-align: left;\">\n",
              "      <th>Epoch</th>\n",
              "      <th>Training Loss</th>\n",
              "      <th>Validation Loss</th>\n",
              "    </tr>\n",
              "  </thead>\n",
              "  <tbody>\n",
              "    <tr>\n",
              "      <td>1</td>\n",
              "      <td>0.000000</td>\n",
              "      <td>0.000002</td>\n",
              "    </tr>\n",
              "    <tr>\n",
              "      <td>2</td>\n",
              "      <td>0.000000</td>\n",
              "      <td>0.000000</td>\n",
              "    </tr>\n",
              "    <tr>\n",
              "      <td>3</td>\n",
              "      <td>0.000000</td>\n",
              "      <td>0.000000</td>\n",
              "    </tr>\n",
              "  </tbody>\n",
              "</table><p>"
            ]
          },
          "metadata": {}
        },
        {
          "output_type": "execute_result",
          "data": {
            "text/plain": [
              "TrainOutput(global_step=46089, training_loss=0.007263169806896317, metrics={'train_runtime': 4570.0719, 'train_samples_per_second': 80.676, 'train_steps_per_second': 10.085, 'total_flos': 1.2218725142281728e+16, 'train_loss': 0.007263169806896317, 'epoch': 3.0})"
            ]
          },
          "metadata": {},
          "execution_count": 20
        }
      ]
    },
    {
      "cell_type": "code",
      "source": [
        "# Evaluate the model on the validation dataset\n",
        "results = trainer.evaluate()\n",
        "\n",
        "# Print evaluation results\n",
        "print(\"Evaluation results:\", results)\n"
      ],
      "metadata": {
        "colab": {
          "base_uri": "https://localhost:8080/",
          "height": 75
        },
        "id": "GIJjKloamyF_",
        "outputId": "a357d59f-9a02-4c18-9ce9-88c763fef9df"
      },
      "execution_count": null,
      "outputs": [
        {
          "output_type": "display_data",
          "data": {
            "text/plain": [
              "<IPython.core.display.HTML object>"
            ],
            "text/html": [
              "\n",
              "    <div>\n",
              "      \n",
              "      <progress value='1921' max='1921' style='width:300px; height:20px; vertical-align: middle;'></progress>\n",
              "      [1921/1921 00:32]\n",
              "    </div>\n",
              "    "
            ]
          },
          "metadata": {}
        },
        {
          "output_type": "stream",
          "name": "stdout",
          "text": [
            "Evaluation results: {'eval_loss': 2.798308429419194e-08, 'eval_runtime': 32.6207, 'eval_samples_per_second': 470.928, 'eval_steps_per_second': 58.889, 'epoch': 3.0}\n"
          ]
        }
      ]
    },
    {
      "cell_type": "code",
      "source": [
        "# Save the model and tokenizer\n",
        "model.save_pretrained('/content/hinglish_auto_suggestion_model')\n",
        "tokenizer.save_pretrained('/content/hinglish_auto_suggestion_tokenizer')\n"
      ],
      "metadata": {
        "colab": {
          "base_uri": "https://localhost:8080/"
        },
        "id": "OjUD111Bm-go",
        "outputId": "74a367b2-591a-4d23-8a47-37a2f4ddd72c"
      },
      "execution_count": null,
      "outputs": [
        {
          "output_type": "execute_result",
          "data": {
            "text/plain": [
              "('/content/hinglish_auto_suggestion_tokenizer/tokenizer_config.json',\n",
              " '/content/hinglish_auto_suggestion_tokenizer/special_tokens_map.json',\n",
              " '/content/hinglish_auto_suggestion_tokenizer/vocab.txt',\n",
              " '/content/hinglish_auto_suggestion_tokenizer/added_tokens.json')"
            ]
          },
          "metadata": {},
          "execution_count": 23
        }
      ]
    },
    {
      "cell_type": "code",
      "source": [
        "# Load the trained model and tokenizer\n",
        "model = DistilBertForMaskedLM.from_pretrained('/content/hinglish_auto_suggestion_model')\n",
        "tokenizer = DistilBertTokenizer.from_pretrained('/content/hinglish_auto_suggestion_tokenizer')\n",
        "\n",
        "# Function to get next word prediction\n",
        "def get_next_word(text, mask=\"[MASK]\"):\n",
        "    input_text = text + \" \" + mask\n",
        "    inputs = tokenizer(input_text, return_tensors='pt')\n",
        "    with torch.no_grad():\n",
        "        outputs = model(**inputs)\n",
        "        logits = outputs.logits\n",
        "\n",
        "    # Get the predicted word id for the [MASK] token\n",
        "    mask_token_index = torch.where(inputs.input_ids == tokenizer.mask_token_id)[1]\n",
        "    predicted_token_id = logits[0, mask_token_index, :].argmax(dim=-1)\n",
        "\n",
        "    predicted_word = tokenizer.decode(predicted_token_id)\n",
        "    return predicted_word\n",
        "\n",
        "# Example usage\n",
        "text = \"The weather is so\"\n",
        "predicted_word = get_next_word(text)\n",
        "print(f\"Predicted next word: {predicted_word}\")\n"
      ],
      "metadata": {
        "colab": {
          "base_uri": "https://localhost:8080/"
        },
        "id": "pXStFDWMnIFN",
        "outputId": "32de5eb0-d2de-4cfa-b2d1-d538812e6eac"
      },
      "execution_count": null,
      "outputs": [
        {
          "output_type": "stream",
          "name": "stdout",
          "text": [
            "Predicted next word: [PAD]\n"
          ]
        }
      ]
    }
  ]
}
